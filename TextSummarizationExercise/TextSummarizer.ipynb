{
 "cells": [
  {
   "cell_type": "code",
   "execution_count": 1,
   "metadata": {
    "collapsed": true
   },
   "outputs": [],
   "source": [
    "from nltk.corpus import stopwords\n",
    "from nltk.tokenize import word_tokenize, sent_tokenize\n",
    "from nltk.stem.snowball import SnowballStemmer\n",
    "import nltk"
   ]
  },
  {
   "cell_type": "code",
   "execution_count": 2,
   "metadata": {
    "collapsed": true
   },
   "outputs": [],
   "source": [
    "text = \"\"\"\n",
    "I’ve been asked by a few friends to develop a feature for a\n",
    "WhatsApp chatbot of mine, that summarizes articles based on\n",
    "URL inputs. So when a friend sends an article to a WhatsApp\n",
    "group, the bot will reply with a summary of the given URL\n",
    "article. I like this feature because from my personal\n",
    "research, 65% of group users don’t even click the shared URLs,\n",
    "but 97% of them will read a few lines of the articles summary.\n",
    "As part of being a Fullstack developer, it is important to\n",
    "know how to choose the right stack for each product you\n",
    "develop, depending on the requirements and limitations.\n",
    "For web crawling, I love using Python. The Python community\n",
    "is filled with efficient, easy to implement open source\n",
    "libraries both for web crawling and text summarization.\n",
    "Once you’re done with this tutorial, you won’t believe how\n",
    "simple it is to implement the task.\n",
    "\"\"\""
   ]
  },
  {
   "cell_type": "code",
   "execution_count": 3,
   "metadata": {
    "collapsed": true
   },
   "outputs": [],
   "source": []
  },
  {
   "cell_type": "code",
   "execution_count": 16,
   "metadata": {},
   "outputs": [
    {
     "name": "stdout",
     "output_type": "stream",
     "text": [
      "['I', '’', 've', 'been', 'asked', 'by', 'a', 'few', 'friends', 'to', 'develop', 'a', 'feature', 'for', 'a', 'WhatsApp', 'chatbot', 'of', 'mine', ',', 'that', 'summarizes', 'articles', 'based', 'on', 'URL', 'inputs', '.', 'So', 'when', 'a', 'friend', 'sends', 'an', 'article', 'to', 'a', 'WhatsApp', 'group', ',', 'the', 'bot', 'will', 'reply', 'with', 'a', 'summary', 'of', 'the', 'given', 'URL', 'article', '.', 'I', 'like', 'this', 'feature', 'because', 'from', 'my', 'personal', 'research', ',', '65', '%', 'of', 'group', 'users', 'don', '’', 't', 'even', 'click', 'the', 'shared', 'URLs', ',', 'but', '97', '%', 'of', 'them', 'will', 'read', 'a', 'few', 'lines', 'of', 'the', 'articles', 'summary', '.', 'As', 'part', 'of', 'being', 'a', 'Fullstack', 'developer', ',', 'it', 'is', 'important', 'to', 'know', 'how', 'to', 'choose', 'the', 'right', 'stack', 'for', 'each', 'product', 'you', 'develop', ',', 'depending', 'on', 'the', 'requirements', 'and', 'limitations', '.', 'For', 'web', 'crawling', ',', 'I', 'love', 'using', 'Python', '.', 'The', 'Python', 'community', 'is', 'filled', 'with', 'efficient', ',', 'easy', 'to', 'implement', 'open', 'source', 'libraries', 'both', 'for', 'web', 'crawling', 'and', 'text', 'summarization', '.', 'Once', 'you', '’', 're', 'done', 'with', 'this', 'tutorial', ',', 'you', 'won', '’', 't', 'believe', 'how', 'simple', 'it', 'is', 'to', 'implement', 'the', 'task', '.']\n"
     ]
    }
   ],
   "source": [
    "print(words)"
   ]
  },
  {
   "cell_type": "code",
   "execution_count": 4,
   "metadata": {
    "collapsed": true
   },
   "outputs": [],
   "source": []
  },
  {
   "cell_type": "code",
   "execution_count": 5,
   "metadata": {},
   "outputs": [
    {
     "name": "stdout",
     "output_type": "stream",
     "text": [
      "{'line': 1, '.': 7, 'sourc': 1, 'effici': 1, 'easi': 1, 'read': 1, 'fullstack': 1, 'import': 1, 'summari': 2, 'send': 1, 'communiti': 1, '’': 4, 'librari': 1, 'friend': 2, 'python': 2, 'right': 1, 'requir': 1, 'click': 1, 'tutori': 1, 'done': 1, 'implement': 2, 'text': 1, ',': 9, 'crawl': 2, 'stack': 1, 'develop': 3, 'use': 1, 'know': 1, 'choos': 1, 'share': 1, 'url': 3, 'love': 1, 'product': 1, 'articl': 4, '65': 1, 'given': 1, 'open': 1, 'person': 1, 'fill': 1, 'task': 1, 'research': 1, 'believ': 1, 'even': 1, 'whatsapp': 2, 'like': 1, 'part': 1, 'group': 2, 'depend': 1, 'limit': 1, 'featur': 2, 'summar': 2, 'mine': 1, 'ask': 1, 'user': 1, 'input': 1, '97': 1, 'repli': 1, 'base': 1, 'bot': 1, '%': 2, 'chatbot': 1, 'web': 2, 'simpl': 1}\n"
     ]
    }
   ],
   "source": [
    "print(freqTable)"
   ]
  },
  {
   "cell_type": "code",
   "execution_count": 6,
   "metadata": {
    "collapsed": true
   },
   "outputs": [],
   "source": []
  },
  {
   "cell_type": "code",
   "execution_count": 17,
   "metadata": {},
   "outputs": [
    {
     "name": "stdout",
     "output_type": "stream",
     "text": [
      "['\\nI’ve been asked by a few friends to develop a feature for a\\nWhatsApp chatbot of mine, that summarizes articles based on\\nURL inputs.', 'So when a friend sends an article to a WhatsApp\\ngroup, the bot will reply with a summary of the given URL\\narticle.', 'I like this feature because from my personal\\nresearch, 65% of group users don’t even click the shared URLs,\\nbut 97% of them will read a few lines of the articles summary.', 'As part of being a Fullstack developer, it is important to\\nknow how to choose the right stack for each product you\\ndevelop, depending on the requirements and limitations.', 'For web crawling, I love using Python.', 'The Python community\\nis filled with efficient, easy to implement open source\\nlibraries both for web crawling and text summarization.', 'Once you’re done with this tutorial, you won’t believe how\\nsimple it is to implement the task.']\n"
     ]
    }
   ],
   "source": [
    "print(sentences)"
   ]
  },
  {
   "cell_type": "code",
   "execution_count": 7,
   "metadata": {},
   "outputs": [
    {
     "name": "stdout",
     "output_type": "stream",
     "text": [
      "Word => .\n",
      "Sentence => \n",
      "I’ve been asked by a few friends to develop a feature for a\n",
      "WhatsApp chatbot of mine, that summarizes articles based on\n",
      "URL inputs.\n",
      "Word => summari\n",
      "Sentence => \n",
      "I’ve been asked by a few friends to develop a feature for a\n",
      "WhatsApp chatbot of mine, that summarizes articles based on\n",
      "URL inputs.\n",
      "Word => ’\n",
      "Sentence => \n",
      "I’ve been asked by a few friends to develop a feature for a\n",
      "WhatsApp chatbot of mine, that summarizes articles based on\n",
      "URL inputs.\n",
      "Word => friend\n",
      "Sentence => \n",
      "I’ve been asked by a few friends to develop a feature for a\n",
      "WhatsApp chatbot of mine, that summarizes articles based on\n",
      "URL inputs.\n",
      "Word => ,\n",
      "Sentence => \n",
      "I’ve been asked by a few friends to develop a feature for a\n",
      "WhatsApp chatbot of mine, that summarizes articles based on\n",
      "URL inputs.\n",
      "Word => develop\n",
      "Sentence => \n",
      "I’ve been asked by a few friends to develop a feature for a\n",
      "WhatsApp chatbot of mine, that summarizes articles based on\n",
      "URL inputs.\n",
      "Word => url\n",
      "Sentence => \n",
      "I’ve been asked by a few friends to develop a feature for a\n",
      "WhatsApp chatbot of mine, that summarizes articles based on\n",
      "URL inputs.\n",
      "Word => articl\n",
      "Sentence => \n",
      "I’ve been asked by a few friends to develop a feature for a\n",
      "WhatsApp chatbot of mine, that summarizes articles based on\n",
      "URL inputs.\n",
      "Word => whatsapp\n",
      "Sentence => \n",
      "I’ve been asked by a few friends to develop a feature for a\n",
      "WhatsApp chatbot of mine, that summarizes articles based on\n",
      "URL inputs.\n",
      "Word => featur\n",
      "Sentence => \n",
      "I’ve been asked by a few friends to develop a feature for a\n",
      "WhatsApp chatbot of mine, that summarizes articles based on\n",
      "URL inputs.\n",
      "Word => summar\n",
      "Sentence => \n",
      "I’ve been asked by a few friends to develop a feature for a\n",
      "WhatsApp chatbot of mine, that summarizes articles based on\n",
      "URL inputs.\n",
      "Word => mine\n",
      "Sentence => \n",
      "I’ve been asked by a few friends to develop a feature for a\n",
      "WhatsApp chatbot of mine, that summarizes articles based on\n",
      "URL inputs.\n",
      "Word => ask\n",
      "Sentence => \n",
      "I’ve been asked by a few friends to develop a feature for a\n",
      "WhatsApp chatbot of mine, that summarizes articles based on\n",
      "URL inputs.\n",
      "Word => input\n",
      "Sentence => \n",
      "I’ve been asked by a few friends to develop a feature for a\n",
      "WhatsApp chatbot of mine, that summarizes articles based on\n",
      "URL inputs.\n",
      "Word => base\n",
      "Sentence => \n",
      "I’ve been asked by a few friends to develop a feature for a\n",
      "WhatsApp chatbot of mine, that summarizes articles based on\n",
      "URL inputs.\n",
      "Word => bot\n",
      "Sentence => \n",
      "I’ve been asked by a few friends to develop a feature for a\n",
      "WhatsApp chatbot of mine, that summarizes articles based on\n",
      "URL inputs.\n",
      "Word => chatbot\n",
      "Sentence => \n",
      "I’ve been asked by a few friends to develop a feature for a\n",
      "WhatsApp chatbot of mine, that summarizes articles based on\n",
      "URL inputs.\n",
      "Word => .\n",
      "Sentence => So when a friend sends an article to a WhatsApp\n",
      "group, the bot will reply with a summary of the given URL\n",
      "article.\n",
      "Word => send\n",
      "Sentence => So when a friend sends an article to a WhatsApp\n",
      "group, the bot will reply with a summary of the given URL\n",
      "article.\n",
      "Word => friend\n",
      "Sentence => So when a friend sends an article to a WhatsApp\n",
      "group, the bot will reply with a summary of the given URL\n",
      "article.\n",
      "Word => ,\n",
      "Sentence => So when a friend sends an article to a WhatsApp\n",
      "group, the bot will reply with a summary of the given URL\n",
      "article.\n",
      "Word => url\n",
      "Sentence => So when a friend sends an article to a WhatsApp\n",
      "group, the bot will reply with a summary of the given URL\n",
      "article.\n",
      "Word => articl\n",
      "Sentence => So when a friend sends an article to a WhatsApp\n",
      "group, the bot will reply with a summary of the given URL\n",
      "article.\n",
      "Word => given\n",
      "Sentence => So when a friend sends an article to a WhatsApp\n",
      "group, the bot will reply with a summary of the given URL\n",
      "article.\n",
      "Word => whatsapp\n",
      "Sentence => So when a friend sends an article to a WhatsApp\n",
      "group, the bot will reply with a summary of the given URL\n",
      "article.\n",
      "Word => group\n",
      "Sentence => So when a friend sends an article to a WhatsApp\n",
      "group, the bot will reply with a summary of the given URL\n",
      "article.\n",
      "Word => summar\n",
      "Sentence => So when a friend sends an article to a WhatsApp\n",
      "group, the bot will reply with a summary of the given URL\n",
      "article.\n",
      "Word => bot\n",
      "Sentence => So when a friend sends an article to a WhatsApp\n",
      "group, the bot will reply with a summary of the given URL\n",
      "article.\n",
      "Word => line\n",
      "Sentence => I like this feature because from my personal\n",
      "research, 65% of group users don’t even click the shared URLs,\n",
      "but 97% of them will read a few lines of the articles summary.\n",
      "Word => .\n",
      "Sentence => I like this feature because from my personal\n",
      "research, 65% of group users don’t even click the shared URLs,\n",
      "but 97% of them will read a few lines of the articles summary.\n",
      "Word => read\n",
      "Sentence => I like this feature because from my personal\n",
      "research, 65% of group users don’t even click the shared URLs,\n",
      "but 97% of them will read a few lines of the articles summary.\n",
      "Word => ’\n",
      "Sentence => I like this feature because from my personal\n",
      "research, 65% of group users don’t even click the shared URLs,\n",
      "but 97% of them will read a few lines of the articles summary.\n",
      "Word => click\n",
      "Sentence => I like this feature because from my personal\n",
      "research, 65% of group users don’t even click the shared URLs,\n",
      "but 97% of them will read a few lines of the articles summary.\n",
      "Word => ,\n",
      "Sentence => I like this feature because from my personal\n",
      "research, 65% of group users don’t even click the shared URLs,\n",
      "but 97% of them will read a few lines of the articles summary.\n",
      "Word => use\n",
      "Sentence => I like this feature because from my personal\n",
      "research, 65% of group users don’t even click the shared URLs,\n",
      "but 97% of them will read a few lines of the articles summary.\n",
      "Word => share\n",
      "Sentence => I like this feature because from my personal\n",
      "research, 65% of group users don’t even click the shared URLs,\n",
      "but 97% of them will read a few lines of the articles summary.\n",
      "Word => url\n",
      "Sentence => I like this feature because from my personal\n",
      "research, 65% of group users don’t even click the shared URLs,\n",
      "but 97% of them will read a few lines of the articles summary.\n",
      "Word => articl\n",
      "Sentence => I like this feature because from my personal\n",
      "research, 65% of group users don’t even click the shared URLs,\n",
      "but 97% of them will read a few lines of the articles summary.\n",
      "Word => 65\n",
      "Sentence => I like this feature because from my personal\n",
      "research, 65% of group users don’t even click the shared URLs,\n",
      "but 97% of them will read a few lines of the articles summary.\n",
      "Word => person\n",
      "Sentence => I like this feature because from my personal\n",
      "research, 65% of group users don’t even click the shared URLs,\n",
      "but 97% of them will read a few lines of the articles summary.\n",
      "Word => research\n",
      "Sentence => I like this feature because from my personal\n",
      "research, 65% of group users don’t even click the shared URLs,\n",
      "but 97% of them will read a few lines of the articles summary.\n",
      "Word => even\n",
      "Sentence => I like this feature because from my personal\n",
      "research, 65% of group users don’t even click the shared URLs,\n",
      "but 97% of them will read a few lines of the articles summary.\n",
      "Word => like\n",
      "Sentence => I like this feature because from my personal\n",
      "research, 65% of group users don’t even click the shared URLs,\n",
      "but 97% of them will read a few lines of the articles summary.\n",
      "Word => group\n",
      "Sentence => I like this feature because from my personal\n",
      "research, 65% of group users don’t even click the shared URLs,\n",
      "but 97% of them will read a few lines of the articles summary.\n",
      "Word => featur\n",
      "Sentence => I like this feature because from my personal\n",
      "research, 65% of group users don’t even click the shared URLs,\n",
      "but 97% of them will read a few lines of the articles summary.\n",
      "Word => summar\n",
      "Sentence => I like this feature because from my personal\n",
      "research, 65% of group users don’t even click the shared URLs,\n",
      "but 97% of them will read a few lines of the articles summary.\n",
      "Word => user\n",
      "Sentence => I like this feature because from my personal\n",
      "research, 65% of group users don’t even click the shared URLs,\n",
      "but 97% of them will read a few lines of the articles summary.\n",
      "Word => 97\n",
      "Sentence => I like this feature because from my personal\n",
      "research, 65% of group users don’t even click the shared URLs,\n",
      "but 97% of them will read a few lines of the articles summary.\n",
      "Word => %\n",
      "Sentence => I like this feature because from my personal\n",
      "research, 65% of group users don’t even click the shared URLs,\n",
      "but 97% of them will read a few lines of the articles summary.\n",
      "Word => .\n",
      "Sentence => As part of being a Fullstack developer, it is important to\n",
      "know how to choose the right stack for each product you\n",
      "develop, depending on the requirements and limitations.\n",
      "Word => fullstack\n",
      "Sentence => As part of being a Fullstack developer, it is important to\n",
      "know how to choose the right stack for each product you\n",
      "develop, depending on the requirements and limitations.\n",
      "Word => import\n",
      "Sentence => As part of being a Fullstack developer, it is important to\n",
      "know how to choose the right stack for each product you\n",
      "develop, depending on the requirements and limitations.\n",
      "Word => right\n",
      "Sentence => As part of being a Fullstack developer, it is important to\n",
      "know how to choose the right stack for each product you\n",
      "develop, depending on the requirements and limitations.\n",
      "Word => requir\n",
      "Sentence => As part of being a Fullstack developer, it is important to\n",
      "know how to choose the right stack for each product you\n",
      "develop, depending on the requirements and limitations.\n",
      "Word => ,\n",
      "Sentence => As part of being a Fullstack developer, it is important to\n",
      "know how to choose the right stack for each product you\n",
      "develop, depending on the requirements and limitations.\n",
      "Word => stack\n",
      "Sentence => As part of being a Fullstack developer, it is important to\n",
      "know how to choose the right stack for each product you\n",
      "develop, depending on the requirements and limitations.\n",
      "Word => develop\n",
      "Sentence => As part of being a Fullstack developer, it is important to\n",
      "know how to choose the right stack for each product you\n",
      "develop, depending on the requirements and limitations.\n",
      "Word => know\n",
      "Sentence => As part of being a Fullstack developer, it is important to\n",
      "know how to choose the right stack for each product you\n",
      "develop, depending on the requirements and limitations.\n",
      "Word => choos\n",
      "Sentence => As part of being a Fullstack developer, it is important to\n",
      "know how to choose the right stack for each product you\n",
      "develop, depending on the requirements and limitations.\n",
      "Word => product\n",
      "Sentence => As part of being a Fullstack developer, it is important to\n",
      "know how to choose the right stack for each product you\n",
      "develop, depending on the requirements and limitations.\n",
      "Word => part\n",
      "Sentence => As part of being a Fullstack developer, it is important to\n",
      "know how to choose the right stack for each product you\n",
      "develop, depending on the requirements and limitations.\n",
      "Word => depend\n",
      "Sentence => As part of being a Fullstack developer, it is important to\n",
      "know how to choose the right stack for each product you\n",
      "develop, depending on the requirements and limitations.\n",
      "Word => limit\n",
      "Sentence => As part of being a Fullstack developer, it is important to\n",
      "know how to choose the right stack for each product you\n",
      "develop, depending on the requirements and limitations.\n",
      "Word => .\n",
      "Sentence => For web crawling, I love using Python.\n",
      "Word => python\n",
      "Sentence => For web crawling, I love using Python.\n",
      "Word => ,\n",
      "Sentence => For web crawling, I love using Python.\n",
      "Word => crawl\n",
      "Sentence => For web crawling, I love using Python.\n",
      "Word => love\n",
      "Sentence => For web crawling, I love using Python.\n",
      "Word => web\n",
      "Sentence => For web crawling, I love using Python.\n",
      "Word => .\n",
      "Sentence => The Python community\n",
      "is filled with efficient, easy to implement open source\n",
      "libraries both for web crawling and text summarization.\n",
      "Word => sourc\n",
      "Sentence => The Python community\n",
      "is filled with efficient, easy to implement open source\n",
      "libraries both for web crawling and text summarization.\n",
      "Word => effici\n",
      "Sentence => The Python community\n",
      "is filled with efficient, easy to implement open source\n",
      "libraries both for web crawling and text summarization.\n",
      "Word => summari\n",
      "Sentence => The Python community\n",
      "is filled with efficient, easy to implement open source\n",
      "libraries both for web crawling and text summarization.\n",
      "Word => librari\n",
      "Sentence => The Python community\n",
      "is filled with efficient, easy to implement open source\n",
      "libraries both for web crawling and text summarization.\n",
      "Word => python\n",
      "Sentence => The Python community\n",
      "is filled with efficient, easy to implement open source\n",
      "libraries both for web crawling and text summarization.\n",
      "Word => implement\n",
      "Sentence => The Python community\n",
      "is filled with efficient, easy to implement open source\n",
      "libraries both for web crawling and text summarization.\n",
      "Word => text\n",
      "Sentence => The Python community\n",
      "is filled with efficient, easy to implement open source\n",
      "libraries both for web crawling and text summarization.\n",
      "Word => ,\n",
      "Sentence => The Python community\n",
      "is filled with efficient, easy to implement open source\n",
      "libraries both for web crawling and text summarization.\n",
      "Word => crawl\n",
      "Sentence => The Python community\n",
      "is filled with efficient, easy to implement open source\n",
      "libraries both for web crawling and text summarization.\n",
      "Word => open\n",
      "Sentence => The Python community\n",
      "is filled with efficient, easy to implement open source\n",
      "libraries both for web crawling and text summarization.\n",
      "Word => fill\n",
      "Sentence => The Python community\n",
      "is filled with efficient, easy to implement open source\n",
      "libraries both for web crawling and text summarization.\n",
      "Word => summar\n",
      "Sentence => The Python community\n",
      "is filled with efficient, easy to implement open source\n",
      "libraries both for web crawling and text summarization.\n",
      "Word => bot\n",
      "Sentence => The Python community\n",
      "is filled with efficient, easy to implement open source\n",
      "libraries both for web crawling and text summarization.\n",
      "Word => web\n",
      "Sentence => The Python community\n",
      "is filled with efficient, easy to implement open source\n",
      "libraries both for web crawling and text summarization.\n",
      "Word => .\n",
      "Sentence => Once you’re done with this tutorial, you won’t believe how\n",
      "simple it is to implement the task.\n",
      "Word => ’\n",
      "Sentence => Once you’re done with this tutorial, you won’t believe how\n",
      "simple it is to implement the task.\n",
      "Word => tutori\n",
      "Sentence => Once you’re done with this tutorial, you won’t believe how\n",
      "simple it is to implement the task.\n",
      "Word => done\n",
      "Sentence => Once you’re done with this tutorial, you won’t believe how\n",
      "simple it is to implement the task.\n",
      "Word => implement\n",
      "Sentence => Once you’re done with this tutorial, you won’t believe how\n",
      "simple it is to implement the task.\n",
      "Word => ,\n",
      "Sentence => Once you’re done with this tutorial, you won’t believe how\n",
      "simple it is to implement the task.\n",
      "Word => task\n",
      "Sentence => Once you’re done with this tutorial, you won’t believe how\n",
      "simple it is to implement the task.\n",
      "Word => believ\n",
      "Sentence => Once you’re done with this tutorial, you won’t believe how\n",
      "simple it is to implement the task.\n",
      "Word => ask\n",
      "Sentence => Once you’re done with this tutorial, you won’t believe how\n",
      "simple it is to implement the task.\n",
      "Word => simpl\n",
      "Sentence => Once you’re done with this tutorial, you won’t believe how\n",
      "simple it is to implement the task.\n"
     ]
    }
   ],
   "source": []
  },
  {
   "cell_type": "code",
   "execution_count": 8,
   "metadata": {},
   "outputs": [
    {
     "name": "stdout",
     "output_type": "stream",
     "text": [
      "{'So when a friend sends an article to a WhatsApp\\ngroup, the bot will reply with a summary of the given URL\\narticle.': 34, 'Once you’re done with this tutorial, you won’t believe how\\nsimple it is to implement the task.': 28, 'As part of being a Fullstack developer, it is important to\\nknow how to choose the right stack for each product you\\ndevelop, depending on the requirements and limitations.': 30, 'I like this feature because from my personal\\nresearch, 65% of group users don’t even click the shared URLs,\\nbut 97% of them will read a few lines of the articles summary.': 47, '\\nI’ve been asked by a few friends to develop a feature for a\\nWhatsApp chatbot of mine, that summarizes articles based on\\nURL inputs.': 46, 'The Python community\\nis filled with efficient, easy to implement open source\\nlibraries both for web crawling and text summarization.': 35, 'For web crawling, I love using Python.': 23}\n"
     ]
    }
   ],
   "source": [
    "print(sentenceValue)"
   ]
  },
  {
   "cell_type": "code",
   "execution_count": 9,
   "metadata": {},
   "outputs": [
    {
     "data": {
      "text/plain": [
       "178"
      ]
     },
     "execution_count": 9,
     "metadata": {},
     "output_type": "execute_result"
    }
   ],
   "source": [
    "len(words)\n",
    "# len(sentenceValue)"
   ]
  },
  {
   "cell_type": "code",
   "execution_count": 10,
   "metadata": {
    "collapsed": true
   },
   "outputs": [],
   "source": []
  },
  {
   "cell_type": "code",
   "execution_count": 11,
   "metadata": {},
   "outputs": [
    {
     "data": {
      "text/plain": [
       "243"
      ]
     },
     "execution_count": 11,
     "metadata": {},
     "output_type": "execute_result"
    }
   ],
   "source": [
    "sumValues"
   ]
  },
  {
   "cell_type": "code",
   "execution_count": 12,
   "metadata": {
    "collapsed": true
   },
   "outputs": [],
   "source": []
  },
  {
   "cell_type": "code",
   "execution_count": 13,
   "metadata": {},
   "outputs": [
    {
     "data": {
      "text/plain": [
       "34"
      ]
     },
     "execution_count": 13,
     "metadata": {},
     "output_type": "execute_result"
    }
   ],
   "source": [
    "average"
   ]
  },
  {
   "cell_type": "code",
   "execution_count": 14,
   "metadata": {
    "collapsed": true
   },
   "outputs": [],
   "source": []
  },
  {
   "cell_type": "code",
   "execution_count": 15,
   "metadata": {},
   "outputs": [
    {
     "name": "stdout",
     "output_type": "stream",
     "text": [
      " \n",
      "I’ve been asked by a few friends to develop a feature for a\n",
      "WhatsApp chatbot of mine, that summarizes articles based on\n",
      "URL inputs. I like this feature because from my personal\n",
      "research, 65% of group users don’t even click the shared URLs,\n",
      "but 97% of them will read a few lines of the articles summary.\n"
     ]
    }
   ],
   "source": [
    "print(summary)"
   ]
  },
  {
   "cell_type": "code",
   "execution_count": null,
   "metadata": {
    "collapsed": true
   },
   "outputs": [],
   "source": []
  }
 ],
 "metadata": {
  "kernelspec": {
   "display_name": "Python 3",
   "language": "python",
   "name": "python3"
  },
  "language_info": {
   "codemirror_mode": {
    "name": "ipython",
    "version": 3
   },
   "file_extension": ".py",
   "mimetype": "text/x-python",
   "name": "python",
   "nbconvert_exporter": "python",
   "pygments_lexer": "ipython3",
   "version": "3.5.4"
  }
 },
 "nbformat": 4,
 "nbformat_minor": 2
}
