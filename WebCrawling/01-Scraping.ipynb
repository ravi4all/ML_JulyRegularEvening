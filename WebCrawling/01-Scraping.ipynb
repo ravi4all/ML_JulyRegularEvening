{
 "cells": [
  {
   "cell_type": "code",
   "execution_count": 3,
   "metadata": {},
   "outputs": [],
   "source": [
    "# bs4 - for web crawling\n",
    "import bs4\n",
    "# urllib.request - URL Parsing\n",
    "import urllib.request"
   ]
  },
  {
   "cell_type": "code",
   "execution_count": 4,
   "metadata": {
    "collapsed": true
   },
   "outputs": [],
   "source": [
    "webpage = urllib.request.urlopen('https://www.imdb.com/title/tt6452574/?ref_=fn_al_tt_1')"
   ]
  },
  {
   "cell_type": "code",
   "execution_count": 5,
   "metadata": {},
   "outputs": [
    {
     "data": {
      "text/plain": [
       "<http.client.HTTPResponse at 0x14881c93e10>"
      ]
     },
     "execution_count": 5,
     "metadata": {},
     "output_type": "execute_result"
    }
   ],
   "source": [
    "webpage"
   ]
  },
  {
   "cell_type": "code",
   "execution_count": 6,
   "metadata": {
    "collapsed": true
   },
   "outputs": [],
   "source": [
    "soup = bs4.BeautifulSoup(webpage, 'lxml')"
   ]
  },
  {
   "cell_type": "code",
   "execution_count": 8,
   "metadata": {},
   "outputs": [],
   "source": [
    "# soup"
   ]
  },
  {
   "cell_type": "code",
   "execution_count": 9,
   "metadata": {
    "collapsed": true
   },
   "outputs": [],
   "source": [
    "summary = soup.find_all('div', class_='summary_text')"
   ]
  },
  {
   "cell_type": "code",
   "execution_count": 13,
   "metadata": {},
   "outputs": [
    {
     "name": "stdout",
     "output_type": "stream",
     "text": [
      "Sanju is a biopic of the controversial life of actor Sanjay Dutt: his film career, jail sentence and personal life.\n"
     ]
    }
   ],
   "source": [
    "for data in summary:\n",
    "    print(data.text.strip())"
   ]
  },
  {
   "cell_type": "code",
   "execution_count": 14,
   "metadata": {
    "collapsed": true
   },
   "outputs": [],
   "source": [
    "storyline = soup.find_all('div', class_='canwrap')"
   ]
  },
  {
   "cell_type": "code",
   "execution_count": 17,
   "metadata": {},
   "outputs": [
    {
     "name": "stdout",
     "output_type": "stream",
     "text": [
      "Few lives in our times are as dramatic and enigmatic as the saga of Sanjay Dutt. Coming from a family of cinema legends, he himself became a film star, and then saw dizzying heights and darkest depths: adulation of die-hard fans, unending battles with various addictions, brushes with the underworld, prison terms, loss of loved ones, and the haunting speculation that he might or might not be a terrorist. Sanju is in turns a hilarious and heartbreaking exploration of one man's battle against his own wild self and the formidable external forces trying to crush him. It depicts the journey of a man through everything that life can throw at him. Some true stories leave you thinking \"did this really happen?\" This is one such unbelievable story that happens to be true.\n",
      "Genres:\n",
      " Biography |\n",
      " Drama\n"
     ]
    }
   ],
   "source": [
    "for story in storyline:\n",
    "    print(story.text.strip())"
   ]
  },
  {
   "cell_type": "code",
   "execution_count": 18,
   "metadata": {
    "collapsed": true
   },
   "outputs": [],
   "source": [
    "# Most Anticipated Movies and Shows in India\n",
    "data = soup.find('div', id='trending-list-rank-item-1')"
   ]
  },
  {
   "cell_type": "code",
   "execution_count": 22,
   "metadata": {},
   "outputs": [
    {
     "name": "stdout",
     "output_type": "stream",
     "text": [
      "#\n",
      "1\n",
      "Dhadak\n",
      "29.1%\n"
     ]
    }
   ],
   "source": [
    "print(data.text.strip())"
   ]
  },
  {
   "cell_type": "code",
   "execution_count": 23,
   "metadata": {
    "collapsed": true
   },
   "outputs": [],
   "source": [
    "data = soup.find_all('div', class_='trending-list-rank-item')"
   ]
  },
  {
   "cell_type": "code",
   "execution_count": 25,
   "metadata": {},
   "outputs": [
    {
     "name": "stdout",
     "output_type": "stream",
     "text": [
      "#\n",
      "1\n",
      "Dhadak\n",
      "29.1%\n",
      "-------------\n",
      "#\n",
      "2\n",
      "Soorma\n",
      "21.4%\n",
      "-------------\n",
      "#\n",
      "3\n",
      "Satyameva Jayate\n",
      "15.7%\n",
      "-------------\n",
      "#\n",
      "4\n",
      "Gold\n",
      "8.3%\n",
      "-------------\n",
      "#\n",
      "5\n",
      "Teri Bhabhi Hai Pagle\n",
      "5.5%\n",
      "-------------\n",
      "#\n",
      "6\n",
      "The Villain\n",
      "5.0%\n",
      "-------------\n",
      "#\n",
      "7\n",
      "Fanney Khan\n",
      "4.2%\n",
      "-------------\n",
      "#\n",
      "8\n",
      "Genius\n",
      "4.2%\n",
      "-------------\n",
      "#\n",
      "9\n",
      "Saheb Biwi Aur Gangster 3\n",
      "3.7%\n",
      "-------------\n",
      "#\n",
      "10\n",
      "Karwaan\n",
      "2.8%\n",
      "-------------\n"
     ]
    }
   ],
   "source": [
    "for d in data:\n",
    "    print(d.text.strip())\n",
    "    print(\"-------------\")"
   ]
  },
  {
   "cell_type": "code",
   "execution_count": null,
   "metadata": {
    "collapsed": true
   },
   "outputs": [],
   "source": []
  }
 ],
 "metadata": {
  "kernelspec": {
   "display_name": "Python 3",
   "language": "python",
   "name": "python3"
  },
  "language_info": {
   "codemirror_mode": {
    "name": "ipython",
    "version": 3
   },
   "file_extension": ".py",
   "mimetype": "text/x-python",
   "name": "python",
   "nbconvert_exporter": "python",
   "pygments_lexer": "ipython3",
   "version": "3.5.4"
  }
 },
 "nbformat": 4,
 "nbformat_minor": 2
}
